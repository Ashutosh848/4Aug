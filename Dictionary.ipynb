{
 "cells": [
  {
   "cell_type": "markdown",
   "id": "5a8d040c-d5f9-49ac-9695-8eca75d25413",
   "metadata": {},
   "source": [
    "#Dictionaries are ordered collection of data items. They store multiple items in a single variable.\n",
    "#They are key pair values and are seperated through commas and are enclosed with curly braces."
   ]
  },
  {
   "cell_type": "code",
   "execution_count": 16,
   "id": "fb763d34-7266-474e-8d5f-fc4ba18ba958",
   "metadata": {},
   "outputs": [
    {
     "name": "stdout",
     "output_type": "stream",
     "text": [
      "<class 'dict'> {1: 'Ashutosh Tiwari', 3: 'Yashika Agarwal', 4: 'Meenal Jain', 5: 'Harsh Gupta', 6: 'Ajay'}\n"
     ]
    }
   ],
   "source": [
    "#Update function in Dictionary\n",
    "#Pop function\n",
    "dict = {1:\"Ashutosh Tiwari\",\n",
    "        2:\"Mohit\",\n",
    "        3:\"Yashika Agarwal\",\n",
    "        4:\"Meenal Jain\",\n",
    "        5:\"Harsh Gupta\"}\n",
    "\n",
    "\n",
    "dict.update({6:\"Ajay\"})\n",
    "dict.pop(2)\n",
    "print(type(dict),dict)"
   ]
  },
  {
   "cell_type": "code",
   "execution_count": null,
   "id": "4ef15c59-71be-4cda-adb9-4ccd83e65eaa",
   "metadata": {},
   "outputs": [],
   "source": []
  }
 ],
 "metadata": {
  "kernelspec": {
   "display_name": "Python 3 (ipykernel)",
   "language": "python",
   "name": "python3"
  },
  "language_info": {
   "codemirror_mode": {
    "name": "ipython",
    "version": 3
   },
   "file_extension": ".py",
   "mimetype": "text/x-python",
   "name": "python",
   "nbconvert_exporter": "python",
   "pygments_lexer": "ipython3",
   "version": "3.11.7"
  }
 },
 "nbformat": 4,
 "nbformat_minor": 5
}
