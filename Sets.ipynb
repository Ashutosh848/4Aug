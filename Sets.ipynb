{
 "cells": [
  {
   "cell_type": "markdown",
   "id": "47a9e5f3-69a8-4d36-b8fe-6df89b8602fb",
   "metadata": {},
   "source": [
    "# Sets-> Sets are an unordered collection of unique items.They are used to store multiple items in a single variable and they have multiple properties."
   ]
  },
  {
   "cell_type": "code",
   "execution_count": 4,
   "id": "a97d0d75-f940-411e-a3a5-99ebd639b569",
   "metadata": {},
   "outputs": [
    {
     "name": "stdout",
     "output_type": "stream",
     "text": [
      "<class 'set'> {1, 2, 3, 'Mohit', 'Rahul', 'Ashutosh', 47, 89}\n"
     ]
    }
   ],
   "source": [
    "#Creating a set.\n",
    "\n",
    "s = {1,2,3,47,89,\"Ashutosh\",\"Mohit\",\"Rahul\"}\n",
    "print(type(s),s)"
   ]
  },
  {
   "cell_type": "code",
   "execution_count": 5,
   "id": "ee21cd7c-2063-4d29-bc6b-8de69337d61c",
   "metadata": {},
   "outputs": [
    {
     "name": "stdout",
     "output_type": "stream",
     "text": [
      "{1, 2, 3, 4, 7}\n"
     ]
    }
   ],
   "source": [
    "#Function for adding an element in the set. {s.add()}\n",
    "s = {1,2,3,4}\n",
    "s.add(7)\n",
    "print(s)"
   ]
  },
  {
   "cell_type": "code",
   "execution_count": 7,
   "id": "88bb8df9-6e01-42a4-a0d5-254cac5c3f4c",
   "metadata": {},
   "outputs": [
    {
     "name": "stdout",
     "output_type": "stream",
     "text": [
      "{1, 3, 4}\n"
     ]
    }
   ],
   "source": [
    "#Remove function is used for removing an element from the set.\n",
    "s = {1,2,3,4}\n",
    "s.remove(2)\n",
    "print(s)"
   ]
  },
  {
   "cell_type": "code",
   "execution_count": 10,
   "id": "1bf8e194-898c-4237-881c-465df7464777",
   "metadata": {},
   "outputs": [
    {
     "name": "stdout",
     "output_type": "stream",
     "text": [
      "{1, 2, 3, 98, 76}\n"
     ]
    }
   ],
   "source": [
    "#Discard is also used for removing an element from the set. But it does not raise an error if the element is not found in the set.\n",
    "s = {1,2,3,4,76,98}\n",
    "s.discard(4)\n",
    "print(s)\n"
   ]
  },
  {
   "cell_type": "code",
   "execution_count": 11,
   "id": "59acd4c1-9707-4030-be2a-09ba3c8e0c68",
   "metadata": {},
   "outputs": [
    {
     "name": "stdout",
     "output_type": "stream",
     "text": [
      "set()\n"
     ]
    }
   ],
   "source": [
    "#Clear function is used to empty the whole list.\n",
    "s = {1,2,3,5}\n",
    "s.clear()\n",
    "print(s)"
   ]
  },
  {
   "cell_type": "code",
   "execution_count": 12,
   "id": "cb0b651d-344e-40e1-9fd1-2fa9b3d17668",
   "metadata": {},
   "outputs": [
    {
     "name": "stdout",
     "output_type": "stream",
     "text": [
      "{1, 2, 3, 4, 5, 'Vikas', 'Ashutosh Tiwari'}\n"
     ]
    }
   ],
   "source": [
    "# Union = Returns a new set with all the elements of both the sets.\n",
    "s1 = {1,2,3,4,5,\"Ashutosh Tiwari\"}\n",
    "s2 = {1,2,3,\"Vikas\"}\n",
    "s3 = s1.union(s2)\n",
    "print(s3)"
   ]
  },
  {
   "cell_type": "code",
   "execution_count": 15,
   "id": "a73aac2e-9dae-4977-be4f-bd3ab3cfc4b7",
   "metadata": {},
   "outputs": [
    {
     "name": "stdout",
     "output_type": "stream",
     "text": [
      "{1, 2, 3, 4}\n"
     ]
    }
   ],
   "source": [
    "# Intersection = Returns a new set with only the common elements present in the set.\n",
    "s1 = {1,2,3,4,78}\n",
    "s2 = {3,4,1,2,54}\n",
    "\n",
    "s3 = s1.intersection(s2)\n",
    "print(s3)"
   ]
  },
  {
   "cell_type": "code",
   "execution_count": 17,
   "id": "0428c982-f3b2-460b-a0a5-51fcf54ab855",
   "metadata": {},
   "outputs": [
    {
     "name": "stdout",
     "output_type": "stream",
     "text": [
      "{98, 21, 56}\n"
     ]
    }
   ],
   "source": [
    "# symmetric_difference(other): Returns a new set with elements that are not present in both the sets.\n",
    "s1 = {1,2,3,4,56}\n",
    "s2 = {1,2,3,4,98,21}\n",
    "s3 = s1.symmetric_difference(s2)\n",
    "print(s3)"
   ]
  },
  {
   "cell_type": "code",
   "execution_count": 21,
   "id": "e210b3d4-7027-4b3c-b0da-2cafc87c6629",
   "metadata": {},
   "outputs": [
    {
     "name": "stdout",
     "output_type": "stream",
     "text": [
      "True\n"
     ]
    }
   ],
   "source": [
    "#{issubset()} If the elements of a set is present in the other set then it will return true. Otherwise it will return false.\n",
    "s1 = {1,2,3,4}\n",
    "s2 = {1,2,3,4}\n",
    "s3 = s1.issubset(s2)\n",
    "print(s3)"
   ]
  },
  {
   "cell_type": "code",
   "execution_count": null,
   "id": "178bd3f3-b267-4bc7-a4ef-9d6657b3d709",
   "metadata": {},
   "outputs": [],
   "source": [
    "# "
   ]
  }
 ],
 "metadata": {
  "kernelspec": {
   "display_name": "Python 3 (ipykernel)",
   "language": "python",
   "name": "python3"
  },
  "language_info": {
   "codemirror_mode": {
    "name": "ipython",
    "version": 3
   },
   "file_extension": ".py",
   "mimetype": "text/x-python",
   "name": "python",
   "nbconvert_exporter": "python",
   "pygments_lexer": "ipython3",
   "version": "3.11.7"
  }
 },
 "nbformat": 4,
 "nbformat_minor": 5
}
